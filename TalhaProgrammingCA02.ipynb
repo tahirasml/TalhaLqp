{
  "nbformat": 4,
  "nbformat_minor": 0,
  "metadata": {
    "colab": {
      "provenance": [],
      "toc_visible": true,
      "authorship_tag": "ABX9TyPYkfAirOifI+GBsEL4NPUr",
      "include_colab_link": true
    },
    "kernelspec": {
      "name": "python3",
      "display_name": "Python 3"
    },
    "language_info": {
      "name": "python"
    }
  },
  "cells": [
    {
      "cell_type": "markdown",
      "metadata": {
        "id": "view-in-github",
        "colab_type": "text"
      },
      "source": [
        "<a href=\"https://colab.research.google.com/github/tahirasml/TalhaLqp/blob/main/TalhaProgrammingCA02.ipynb\" target=\"_parent\"><img src=\"https://colab.research.google.com/assets/colab-badge.svg\" alt=\"Open In Colab\"/></a>"
      ]
    },
    {
      "cell_type": "markdown",
      "source": [
        "**Data Acquisition (data_acquisition.ipynb)**\n",
        "\n",
        "In this phase, the objective is to retrieve data from the OpenWeatherMap API for a given city (in our case, **Ireland**) and save it in a CSV format.\n",
        "\n",
        "**Steps**:\n",
        "\n",
        "1.   Import necessary libraries: **requests** for API calls and **pandas** for data manipulation.\n",
        "2.   Define the **api_key** and target **city**.\n",
        "3.   Build the **base_url** to make the API call.\n",
        "4.   Send the GET request to the OpenWeatherMap API to fetch the current weather data.\n",
        "5.   Convert the API response to a JSON format. calls and pandas for data manipulation.\n",
        "6.   Extract the 'main' section from the JSON data, which contains weather details.\n",
        "7.   Convert the extracted data into a Pandas DataFrame.\n",
        "8.   Save the DataFrame to a **weather_data.csv** file for further processing.\n",
        "\n",
        "\n",
        "\n",
        "\n"
      ],
      "metadata": {
        "id": "gr6cT0r08-Cn"
      }
    },
    {
      "cell_type": "code",
      "execution_count": 5,
      "metadata": {
        "id": "k94z8jDfiMO4"
      },
      "outputs": [],
      "source": [
        "import requests\n",
        "import pandas as pd\n",
        "\n",
        "api_key = \"0b5e97d969ebe3255a17d2af74331092\"\n",
        "city = \"Ireland\"\n",
        "base_url = f\"http://api.openweathermap.org/data/2.5/weather?q={city}&appid={api_key}\"\n",
        "\n",
        "response = requests.get(base_url)\n",
        "\n",
        "# Convert the response to JSON\n",
        "data = response.json()\n",
        "\n",
        "# Extract the main weather data\n",
        "weather_data = data['main']\n",
        "\n",
        "# Convert the weather data to a pandas DataFrame and save it to a CSV file\n",
        "df = pd.DataFrame(weather_data, index=[0])\n",
        "df.to_csv('weather_data.csv', index=False)\n"
      ]
    },
    {
      "cell_type": "markdown",
      "source": [
        "\n",
        "**Data Pre-processing (data_preprocessing.ipynb)**\n",
        "\n",
        "In this phase, the raw data acquired from the API is cleaned and transformed to make it suitable for analysis.\n",
        "\n",
        "**Steps**:\n",
        "\n",
        "\n",
        "1.   Load the raw data from **weather_data.csv** using Pandas.\n",
        "\n",
        "2.   Check and handle missing values, if any. In our example, we simply drop rows with any missing values.\n",
        "3.   Convert the temperature data from Kelvin to Celsius.\n",
        "4.   Save the cleaned and transformed data to **preprocessed_weather_data.csv**.\n"
      ],
      "metadata": {
        "id": "NfoLVPs0-K3L"
      }
    },
    {
      "cell_type": "code",
      "source": [
        "import pandas as pd\n",
        "\n",
        "# Load the data from the CSV file\n",
        "df = pd.read_csv('weather_data.csv')\n",
        "\n",
        "# Handle missing values (if any)\n",
        "df = df.dropna()\n",
        "\n",
        "# Convert temperature from Kelvin to Celsius\n",
        "df['temp'] = df['temp'] - 273.15\n",
        "\n",
        "# Save the preprocessed data to a new CSV file\n",
        "df.to_csv('preprocessed_weather_data.csv', index=False)\n"
      ],
      "metadata": {
        "id": "lbhaidngAgmH"
      },
      "execution_count": 6,
      "outputs": []
    },
    {
      "cell_type": "markdown",
      "source": [
        "**Data Analysis (data_analysis.ipynb)**\n",
        "\n",
        "In this phase, we perform exploratory data analysis (EDA) to understand our dataset's characteristics and derive insights.\n",
        "\n",
        "**Steps**:\n",
        "\n",
        "\n",
        "\n",
        "1.   Load the preprocessed data from preprocessed_weather_data.csv using Pandas.\n",
        "2.   Calculate basic statistical measures for the temperature:\n",
        "        *   Mean: Average temperature.\n",
        "        *   Median: Middle value in the sorted list of temperatures.\n",
        "        *   Standard Deviation: Measures the amount of variation or dispersion of the temperature set.\n",
        "\n",
        "3.   Print out the statistical measures.\n",
        "4.   Visualize the temperature distribution using a histogram. This gives an idea about the frequency distribution of the temperature values.\n",
        "\n",
        "\n"
      ],
      "metadata": {
        "id": "2BakV_9N-JIj"
      }
    },
    {
      "cell_type": "code",
      "source": [
        "import pandas as pd\n",
        "import matplotlib.pyplot as plt\n",
        "\n",
        "# Load the preprocessed data from the CSV file\n",
        "df = pd.read_csv('preprocessed_weather_data.csv')\n",
        "\n",
        "# Calculate basic statistics for the temperature\n",
        "mean_temp = df['temp'].mean()\n",
        "median_temp = df['temp'].median()\n",
        "std_dev_temp = df['temp'].std()\n",
        "\n",
        "# Print the statistics\n",
        "print(f'Mean temperature: {mean_temp:.2f} °C')\n",
        "print(f'Median temperature: {median_temp:.2f} °C')\n",
        "print(f'Standard deviation of temperature: {std_dev_temp:.2f} °C')\n",
        "\n",
        "# Plot a histogram of the temperature\n",
        "plt.hist(df['temp'], bins=10, edgecolor='black')\n",
        "plt.xlabel('Temperature (°C)')\n",
        "plt.ylabel('Frequency')\n",
        "plt.title('Histogram of Temperature')\n",
        "plt.show()\n"
      ],
      "metadata": {
        "colab": {
          "base_uri": "https://localhost:8080/",
          "height": 524
        },
        "id": "fXTUhow5CWGK",
        "outputId": "fa117746-d59a-42f2-917d-399b08c5c2c0"
      },
      "execution_count": 7,
      "outputs": [
        {
          "output_type": "stream",
          "name": "stdout",
          "text": [
            "Mean temperature: 15.62 °C\n",
            "Median temperature: 15.62 °C\n",
            "Standard deviation of temperature: nan °C\n"
          ]
        },
        {
          "output_type": "display_data",
          "data": {
            "text/plain": [
              "<Figure size 640x480 with 1 Axes>"
            ],
            "image/png": "[encoded data removed]"
          },
          "metadata": {}
        }
      ]
    }
  ]
}